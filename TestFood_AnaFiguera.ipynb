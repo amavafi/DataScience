{
  "nbformat": 4,
  "nbformat_minor": 0,
  "metadata": {
    "colab": {
      "provenance": [],
      "mount_file_id": "1huu3yNAXo2ANXtlShoRYJ1GJewlv6WfF",
      "authorship_tag": "ABX9TyON9KaTW7wOGBhaoU9D8S/v",
      "include_colab_link": true
    },
    "kernelspec": {
      "name": "python3",
      "display_name": "Python 3"
    },
    "language_info": {
      "name": "python"
    }
  },
  "cells": [
    {
      "cell_type": "markdown",
      "metadata": {
        "id": "view-in-github",
        "colab_type": "text"
      },
      "source": [
        "<a href=\"https://colab.research.google.com/github/amavafi/DataScience/blob/main/TestFood_AnaFiguera.ipynb\" target=\"_parent\"><img src=\"https://colab.research.google.com/assets/colab-badge.svg\" alt=\"Open In Colab\"/></a>"
      ]
    },
    {
      "cell_type": "markdown",
      "source": [
        "#Primeros pasos 🤯\n",
        ":\n",
        "Son algunas de las pruebas necesarias para ir tomando el modelo de armado."
      ],
      "metadata": {
        "id": "WyMhsloG8phz"
      }
    },
    {
      "cell_type": "code",
      "execution_count": 1,
      "metadata": {
        "id": "__u7-syn6scj"
      },
      "outputs": [],
      "source": [
        "import numpy as np"
      ]
    }
  ]
}